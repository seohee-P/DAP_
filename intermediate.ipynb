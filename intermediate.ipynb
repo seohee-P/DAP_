{
  "nbformat": 4,
  "nbformat_minor": 0,
  "metadata": {
    "colab": {
      "name": "intermediate.ipynb",
      "provenance": [],
      "authorship_tag": "ABX9TyNuUevYBYbz21xPPy1FS3X1",
      "include_colab_link": true
    },
    "kernelspec": {
      "name": "python3",
      "display_name": "Python 3"
    },
    "language_info": {
      "name": "python"
    }
  },
  "cells": [
    {
      "cell_type": "markdown",
      "metadata": {
        "id": "view-in-github",
        "colab_type": "text"
      },
      "source": [
        "<a href=\"https://colab.research.google.com/github/hunnitsh/DAP_/blob/main/intermediate.ipynb\" target=\"_parent\"><img src=\"https://colab.research.google.com/assets/colab-badge.svg\" alt=\"Open In Colab\"/></a>"
      ]
    },
    {
      "cell_type": "code",
      "metadata": {
        "colab": {
          "base_uri": "https://localhost:8080/"
        },
        "id": "c_NUZA_RLRrN",
        "outputId": "7f8a8da6-d3b2-4ae6-a27f-8022d0a8c014"
      },
      "source": [
        "from google.colab import drive\n",
        "drive.mount('/content/drive')"
      ],
      "execution_count": 1,
      "outputs": [
        {
          "output_type": "stream",
          "name": "stdout",
          "text": [
            "Mounted at /content/drive\n"
          ]
        }
      ]
    },
    {
      "cell_type": "code",
      "metadata": {
        "colab": {
          "base_uri": "https://localhost:8080/",
          "height": 423
        },
        "id": "uS8v7EWHNlex",
        "outputId": "1a398c61-19d2-4ac1-9422-4305c464c370"
      },
      "source": [
        "import pandas as pd\n",
        "import matplotlib as mpl\n",
        "import matplotlib.pyplot as plt\n",
        "import seaborn as sns\n",
        "import numpy as np\n",
        "import pandas as pd\n",
        "data = pd.read_csv('/content/drive/MyDrive/data/Measurement_summary.csv')\n",
        "data"
      ],
      "execution_count": 10,
      "outputs": [
        {
          "output_type": "execute_result",
          "data": {
            "text/html": [
              "<div>\n",
              "<style scoped>\n",
              "    .dataframe tbody tr th:only-of-type {\n",
              "        vertical-align: middle;\n",
              "    }\n",
              "\n",
              "    .dataframe tbody tr th {\n",
              "        vertical-align: top;\n",
              "    }\n",
              "\n",
              "    .dataframe thead th {\n",
              "        text-align: right;\n",
              "    }\n",
              "</style>\n",
              "<table border=\"1\" class=\"dataframe\">\n",
              "  <thead>\n",
              "    <tr style=\"text-align: right;\">\n",
              "      <th></th>\n",
              "      <th>Measurement date</th>\n",
              "      <th>Station code</th>\n",
              "      <th>Address</th>\n",
              "      <th>Latitude</th>\n",
              "      <th>Longitude</th>\n",
              "      <th>SO2</th>\n",
              "      <th>NO2</th>\n",
              "      <th>O3</th>\n",
              "      <th>CO</th>\n",
              "      <th>PM10</th>\n",
              "      <th>PM2.5</th>\n",
              "    </tr>\n",
              "  </thead>\n",
              "  <tbody>\n",
              "    <tr>\n",
              "      <th>0</th>\n",
              "      <td>2017-01-01 00:00</td>\n",
              "      <td>101</td>\n",
              "      <td>19, Jong-ro 35ga-gil, Jongno-gu, Seoul, Republ...</td>\n",
              "      <td>37.572016</td>\n",
              "      <td>127.005007</td>\n",
              "      <td>0.004</td>\n",
              "      <td>0.059</td>\n",
              "      <td>0.002</td>\n",
              "      <td>1.2</td>\n",
              "      <td>73.0</td>\n",
              "      <td>57.0</td>\n",
              "    </tr>\n",
              "    <tr>\n",
              "      <th>1</th>\n",
              "      <td>2017-01-01 01:00</td>\n",
              "      <td>101</td>\n",
              "      <td>19, Jong-ro 35ga-gil, Jongno-gu, Seoul, Republ...</td>\n",
              "      <td>37.572016</td>\n",
              "      <td>127.005007</td>\n",
              "      <td>0.004</td>\n",
              "      <td>0.058</td>\n",
              "      <td>0.002</td>\n",
              "      <td>1.2</td>\n",
              "      <td>71.0</td>\n",
              "      <td>59.0</td>\n",
              "    </tr>\n",
              "    <tr>\n",
              "      <th>2</th>\n",
              "      <td>2017-01-01 02:00</td>\n",
              "      <td>101</td>\n",
              "      <td>19, Jong-ro 35ga-gil, Jongno-gu, Seoul, Republ...</td>\n",
              "      <td>37.572016</td>\n",
              "      <td>127.005007</td>\n",
              "      <td>0.004</td>\n",
              "      <td>0.056</td>\n",
              "      <td>0.002</td>\n",
              "      <td>1.2</td>\n",
              "      <td>70.0</td>\n",
              "      <td>59.0</td>\n",
              "    </tr>\n",
              "    <tr>\n",
              "      <th>3</th>\n",
              "      <td>2017-01-01 03:00</td>\n",
              "      <td>101</td>\n",
              "      <td>19, Jong-ro 35ga-gil, Jongno-gu, Seoul, Republ...</td>\n",
              "      <td>37.572016</td>\n",
              "      <td>127.005007</td>\n",
              "      <td>0.004</td>\n",
              "      <td>0.056</td>\n",
              "      <td>0.002</td>\n",
              "      <td>1.2</td>\n",
              "      <td>70.0</td>\n",
              "      <td>58.0</td>\n",
              "    </tr>\n",
              "    <tr>\n",
              "      <th>4</th>\n",
              "      <td>2017-01-01 04:00</td>\n",
              "      <td>101</td>\n",
              "      <td>19, Jong-ro 35ga-gil, Jongno-gu, Seoul, Republ...</td>\n",
              "      <td>37.572016</td>\n",
              "      <td>127.005007</td>\n",
              "      <td>0.003</td>\n",
              "      <td>0.051</td>\n",
              "      <td>0.002</td>\n",
              "      <td>1.2</td>\n",
              "      <td>69.0</td>\n",
              "      <td>61.0</td>\n",
              "    </tr>\n",
              "    <tr>\n",
              "      <th>...</th>\n",
              "      <td>...</td>\n",
              "      <td>...</td>\n",
              "      <td>...</td>\n",
              "      <td>...</td>\n",
              "      <td>...</td>\n",
              "      <td>...</td>\n",
              "      <td>...</td>\n",
              "      <td>...</td>\n",
              "      <td>...</td>\n",
              "      <td>...</td>\n",
              "      <td>...</td>\n",
              "    </tr>\n",
              "    <tr>\n",
              "      <th>647506</th>\n",
              "      <td>2019-12-31 19:00</td>\n",
              "      <td>125</td>\n",
              "      <td>59, Gucheonmyeon-ro 42-gil, Gangdong-gu, Seoul...</td>\n",
              "      <td>37.544962</td>\n",
              "      <td>127.136792</td>\n",
              "      <td>0.003</td>\n",
              "      <td>0.028</td>\n",
              "      <td>0.013</td>\n",
              "      <td>0.5</td>\n",
              "      <td>23.0</td>\n",
              "      <td>17.0</td>\n",
              "    </tr>\n",
              "    <tr>\n",
              "      <th>647507</th>\n",
              "      <td>2019-12-31 20:00</td>\n",
              "      <td>125</td>\n",
              "      <td>59, Gucheonmyeon-ro 42-gil, Gangdong-gu, Seoul...</td>\n",
              "      <td>37.544962</td>\n",
              "      <td>127.136792</td>\n",
              "      <td>0.003</td>\n",
              "      <td>0.025</td>\n",
              "      <td>0.015</td>\n",
              "      <td>0.4</td>\n",
              "      <td>25.0</td>\n",
              "      <td>19.0</td>\n",
              "    </tr>\n",
              "    <tr>\n",
              "      <th>647508</th>\n",
              "      <td>2019-12-31 21:00</td>\n",
              "      <td>125</td>\n",
              "      <td>59, Gucheonmyeon-ro 42-gil, Gangdong-gu, Seoul...</td>\n",
              "      <td>37.544962</td>\n",
              "      <td>127.136792</td>\n",
              "      <td>0.003</td>\n",
              "      <td>0.023</td>\n",
              "      <td>0.015</td>\n",
              "      <td>0.4</td>\n",
              "      <td>24.0</td>\n",
              "      <td>17.0</td>\n",
              "    </tr>\n",
              "    <tr>\n",
              "      <th>647509</th>\n",
              "      <td>2019-12-31 22:00</td>\n",
              "      <td>125</td>\n",
              "      <td>59, Gucheonmyeon-ro 42-gil, Gangdong-gu, Seoul...</td>\n",
              "      <td>37.544962</td>\n",
              "      <td>127.136792</td>\n",
              "      <td>0.003</td>\n",
              "      <td>0.040</td>\n",
              "      <td>0.004</td>\n",
              "      <td>0.5</td>\n",
              "      <td>25.0</td>\n",
              "      <td>18.0</td>\n",
              "    </tr>\n",
              "    <tr>\n",
              "      <th>647510</th>\n",
              "      <td>2019-12-31 23:00</td>\n",
              "      <td>125</td>\n",
              "      <td>59, Gucheonmyeon-ro 42-gil, Gangdong-gu, Seoul...</td>\n",
              "      <td>37.544962</td>\n",
              "      <td>127.136792</td>\n",
              "      <td>0.003</td>\n",
              "      <td>0.037</td>\n",
              "      <td>0.005</td>\n",
              "      <td>0.5</td>\n",
              "      <td>27.0</td>\n",
              "      <td>18.0</td>\n",
              "    </tr>\n",
              "  </tbody>\n",
              "</table>\n",
              "<p>647511 rows × 11 columns</p>\n",
              "</div>"
            ],
            "text/plain": [
              "        Measurement date  Station code  ...  PM10  PM2.5\n",
              "0       2017-01-01 00:00           101  ...  73.0   57.0\n",
              "1       2017-01-01 01:00           101  ...  71.0   59.0\n",
              "2       2017-01-01 02:00           101  ...  70.0   59.0\n",
              "3       2017-01-01 03:00           101  ...  70.0   58.0\n",
              "4       2017-01-01 04:00           101  ...  69.0   61.0\n",
              "...                  ...           ...  ...   ...    ...\n",
              "647506  2019-12-31 19:00           125  ...  23.0   17.0\n",
              "647507  2019-12-31 20:00           125  ...  25.0   19.0\n",
              "647508  2019-12-31 21:00           125  ...  24.0   17.0\n",
              "647509  2019-12-31 22:00           125  ...  25.0   18.0\n",
              "647510  2019-12-31 23:00           125  ...  27.0   18.0\n",
              "\n",
              "[647511 rows x 11 columns]"
            ]
          },
          "metadata": {},
          "execution_count": 10
        }
      ]
    },
    {
      "cell_type": "code",
      "metadata": {
        "colab": {
          "base_uri": "https://localhost:8080/",
          "height": 206
        },
        "id": "KKCyvVHFN6vv",
        "outputId": "bc3c417c-88fb-4524-8e85-464159b9d14b"
      },
      "source": [
        "air = data[['Measurement date','PM10',\t'PM2.5' ]]\n",
        "air.head()"
      ],
      "execution_count": 11,
      "outputs": [
        {
          "output_type": "execute_result",
          "data": {
            "text/html": [
              "<div>\n",
              "<style scoped>\n",
              "    .dataframe tbody tr th:only-of-type {\n",
              "        vertical-align: middle;\n",
              "    }\n",
              "\n",
              "    .dataframe tbody tr th {\n",
              "        vertical-align: top;\n",
              "    }\n",
              "\n",
              "    .dataframe thead th {\n",
              "        text-align: right;\n",
              "    }\n",
              "</style>\n",
              "<table border=\"1\" class=\"dataframe\">\n",
              "  <thead>\n",
              "    <tr style=\"text-align: right;\">\n",
              "      <th></th>\n",
              "      <th>Measurement date</th>\n",
              "      <th>PM10</th>\n",
              "      <th>PM2.5</th>\n",
              "    </tr>\n",
              "  </thead>\n",
              "  <tbody>\n",
              "    <tr>\n",
              "      <th>0</th>\n",
              "      <td>2017-01-01 00:00</td>\n",
              "      <td>73.0</td>\n",
              "      <td>57.0</td>\n",
              "    </tr>\n",
              "    <tr>\n",
              "      <th>1</th>\n",
              "      <td>2017-01-01 01:00</td>\n",
              "      <td>71.0</td>\n",
              "      <td>59.0</td>\n",
              "    </tr>\n",
              "    <tr>\n",
              "      <th>2</th>\n",
              "      <td>2017-01-01 02:00</td>\n",
              "      <td>70.0</td>\n",
              "      <td>59.0</td>\n",
              "    </tr>\n",
              "    <tr>\n",
              "      <th>3</th>\n",
              "      <td>2017-01-01 03:00</td>\n",
              "      <td>70.0</td>\n",
              "      <td>58.0</td>\n",
              "    </tr>\n",
              "    <tr>\n",
              "      <th>4</th>\n",
              "      <td>2017-01-01 04:00</td>\n",
              "      <td>69.0</td>\n",
              "      <td>61.0</td>\n",
              "    </tr>\n",
              "  </tbody>\n",
              "</table>\n",
              "</div>"
            ],
            "text/plain": [
              "   Measurement date  PM10  PM2.5\n",
              "0  2017-01-01 00:00  73.0   57.0\n",
              "1  2017-01-01 01:00  71.0   59.0\n",
              "2  2017-01-01 02:00  70.0   59.0\n",
              "3  2017-01-01 03:00  70.0   58.0\n",
              "4  2017-01-01 04:00  69.0   61.0"
            ]
          },
          "metadata": {},
          "execution_count": 11
        }
      ]
    },
    {
      "cell_type": "code",
      "metadata": {
        "colab": {
          "base_uri": "https://localhost:8080/",
          "height": 206
        },
        "id": "-YDd8ib-ORsu",
        "outputId": "6aa726d4-8c71-4881-8d80-40301aa4ba8e"
      },
      "source": [
        "air.tail()"
      ],
      "execution_count": 12,
      "outputs": [
        {
          "output_type": "execute_result",
          "data": {
            "text/html": [
              "<div>\n",
              "<style scoped>\n",
              "    .dataframe tbody tr th:only-of-type {\n",
              "        vertical-align: middle;\n",
              "    }\n",
              "\n",
              "    .dataframe tbody tr th {\n",
              "        vertical-align: top;\n",
              "    }\n",
              "\n",
              "    .dataframe thead th {\n",
              "        text-align: right;\n",
              "    }\n",
              "</style>\n",
              "<table border=\"1\" class=\"dataframe\">\n",
              "  <thead>\n",
              "    <tr style=\"text-align: right;\">\n",
              "      <th></th>\n",
              "      <th>Measurement date</th>\n",
              "      <th>PM10</th>\n",
              "      <th>PM2.5</th>\n",
              "    </tr>\n",
              "  </thead>\n",
              "  <tbody>\n",
              "    <tr>\n",
              "      <th>647506</th>\n",
              "      <td>2019-12-31 19:00</td>\n",
              "      <td>23.0</td>\n",
              "      <td>17.0</td>\n",
              "    </tr>\n",
              "    <tr>\n",
              "      <th>647507</th>\n",
              "      <td>2019-12-31 20:00</td>\n",
              "      <td>25.0</td>\n",
              "      <td>19.0</td>\n",
              "    </tr>\n",
              "    <tr>\n",
              "      <th>647508</th>\n",
              "      <td>2019-12-31 21:00</td>\n",
              "      <td>24.0</td>\n",
              "      <td>17.0</td>\n",
              "    </tr>\n",
              "    <tr>\n",
              "      <th>647509</th>\n",
              "      <td>2019-12-31 22:00</td>\n",
              "      <td>25.0</td>\n",
              "      <td>18.0</td>\n",
              "    </tr>\n",
              "    <tr>\n",
              "      <th>647510</th>\n",
              "      <td>2019-12-31 23:00</td>\n",
              "      <td>27.0</td>\n",
              "      <td>18.0</td>\n",
              "    </tr>\n",
              "  </tbody>\n",
              "</table>\n",
              "</div>"
            ],
            "text/plain": [
              "        Measurement date  PM10  PM2.5\n",
              "647506  2019-12-31 19:00  23.0   17.0\n",
              "647507  2019-12-31 20:00  25.0   19.0\n",
              "647508  2019-12-31 21:00  24.0   17.0\n",
              "647509  2019-12-31 22:00  25.0   18.0\n",
              "647510  2019-12-31 23:00  27.0   18.0"
            ]
          },
          "metadata": {},
          "execution_count": 12
        }
      ]
    },
    {
      "cell_type": "code",
      "metadata": {
        "colab": {
          "base_uri": "https://localhost:8080/",
          "height": 546
        },
        "id": "AeeICl6EOXWx",
        "outputId": "de812e90-ad80-44e3-b9e3-5dafe859539c"
      },
      "source": [
        "# Prepare data\n",
        "air['Measurement date']= pd.to_datetime(air['Measurement date']) \n",
        "air['year'] = air['Measurement date'].dt.year \n",
        "years = air['year'].unique()\n",
        "\n",
        "# Draw Plot\n",
        "fig, axes = plt.subplots(1, 2, figsize=(10,4), dpi= 80)\n",
        "sns.boxplot(x='year', y='PM10', data=air, ax=axes[0])\n",
        "sns.boxplot(x='year', y='PM2.5', data=air, ax=axes[1])\n",
        "\n",
        "# Set Title\n",
        "axes[0].set_title('PM10 Year-wise Box Plot', fontsize=18); \n",
        "axes[1].set_title('PM2.5 Year-wise Box Plot', fontsize=18)\n",
        "plt.show()"
      ],
      "execution_count": 13,
      "outputs": [
        {
          "output_type": "stream",
          "name": "stderr",
          "text": [
            "/usr/local/lib/python3.7/dist-packages/ipykernel_launcher.py:2: SettingWithCopyWarning: \n",
            "A value is trying to be set on a copy of a slice from a DataFrame.\n",
            "Try using .loc[row_indexer,col_indexer] = value instead\n",
            "\n",
            "See the caveats in the documentation: https://pandas.pydata.org/pandas-docs/stable/user_guide/indexing.html#returning-a-view-versus-a-copy\n",
            "  \n",
            "/usr/local/lib/python3.7/dist-packages/ipykernel_launcher.py:3: SettingWithCopyWarning: \n",
            "A value is trying to be set on a copy of a slice from a DataFrame.\n",
            "Try using .loc[row_indexer,col_indexer] = value instead\n",
            "\n",
            "See the caveats in the documentation: https://pandas.pydata.org/pandas-docs/stable/user_guide/indexing.html#returning-a-view-versus-a-copy\n",
            "  This is separate from the ipykernel package so we can avoid doing imports until\n"
          ]
        },
        {
          "output_type": "display_data",
          "data": {
            "image/png": "[encoded data removed]",
            "text/plain": [
              "<Figure size 800x320 with 2 Axes>"
            ]
          },
          "metadata": {
            "needs_background": "light"
          }
        }
      ]
    }
  ]
}